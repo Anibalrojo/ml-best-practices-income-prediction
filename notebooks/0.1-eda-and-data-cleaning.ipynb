{
  "cells": [
    {
      "cell_type": "markdown",
      "metadata": {},
      "source": [
        "# 0.1 - Exploratory Data Analysis and Data Cleaning\n",
        "\n",
        "This notebook serves as the initial step in the project. Its purpose is to:\n",
        "1.  Load the raw \"Adult Income\" dataset.\n",
        "2.  Perform a thorough exploratory data analysis (EDA) to understand its structure, distributions, and relationships.\n",
        "3.  Identify and handle data quality issues like missing values.\n",
        "4.  Apply initial cleaning and preprocessing steps.\n",
        "5.  Save the cleaned, processed dataset to the `data/processed` directory, so all subsequent modeling notebooks can start from a consistent and clean state.\n"
      ]
    },
    {
      "cell_type": "code",
      "execution_count": null,
      "metadata": {},
      "outputs": [],
      "source": [
        "# Library Imports\n",
        "\n",
        "# Data manipulation\n",
        "import pandas as pd\n",
        "import numpy as np\n",
        "import math\n",
        "import os\n",
        "\n",
        "# Dataset loading\n",
        "from sklearn.datasets import fetch_openml\n",
        "\n",
        "# Visualization\n",
        "import matplotlib.pyplot as plt\n",
        "import seaborn as sns\n",
        "\n",
        "# General settings\n",
        "import warnings\n",
        "warnings.filterwarnings('ignore')\n",
        "\n",
        "# Visualization style\n",
        "sns.set(style='whitegrid')"
      ]
    },
    {
      "cell_type": "markdown",
      "metadata": {},
      "source": [
        "## 1. Load and Explore the Dataset\n",
        "\n",
        "In this first step, we will work with the **Adult Income** dataset.\n",
        "\n",
        "### Specific Goals:\n",
        "- **Load the dataset** from `OpenML`.\n",
        "- **Explore and clean the data**, handling missing or inconsistent values.\n",
        "- **Save the cleaned dataset** to be used by other notebooks.\n"
      ]
    },
    {
      "cell_type": "code",
      "execution_count": null,
      "metadata": {},
      "outputs": [],
      "source": [
        "# Load the dataset\n",
        "# Note: We are not using the load_data function here as this notebook *creates* the processed data\n",
        "adult_data = fetch_openml(name='adult', version=2, as_frame=True)\n",
        "\n",
        "# Extract the data and target\n",
        "df = adult_data.frame\n",
        "\n",
        "# Display the first few rows\n",
        "print('DataFrame dimensions:', df.shape)\n",
        "df.head()"
      ]
    },
    {
      "cell_type": "code",
      "execution_count": null,
      "metadata": {},
      "outputs": [],
      "source": [
        "# General dataset info\n",
        "df.info()\n",
        "\n",
        "# Descriptive statistics for numerical variables\n",
        "df.describe()"
      ]
    },
    {
      "cell_type": "code",
      "execution_count": null,
      "metadata": {},
      "outputs": [],
      "source": [
        "# Categorical columns\n",
        "cat_cols = df.select_dtypes(include='category').columns.tolist()\n",
        "print(\"Categorical variables:\", cat_cols)\n",
        "\n",
        "# Numerical columns\n",
        "num_cols = df.select_dtypes(exclude='category').columns.tolist()\n",
        "print(\"Numerical variables:\", num_cols)"
      ]
    },
    {
      "cell_type": "markdown",
      "metadata": {},
      "source": [
        "## 2. Data Cleaning\n",
        "\n",
        "In this section, we will address the data quality issues identified in the initial exploration.\n",
        "\n",
        "- **Missing Values:** We will review the columns with `NaN` values and apply a strategy to handle them. Since the percentage of missing data is low, we will choose to remove the corresponding rows.\n",
        "- **Simplify 'native-country'**: The `native-country` variable is heavily dominated by one category (`United-States`). To make the model more robust, all other nationalities will be grouped into a single category, 'Other'.\n"
      ]
    },
    {
      "cell_type": "code",
      "execution_count": null,
      "metadata": {},
      "outputs": [],
      "source": [
        "# Count missing values per column\n",
        "print(\"Columns with NaN values before cleaning:\")\n",
        "print(df.isnull().sum())\n",
        "\n",
        "# Drop rows with NaN values\n",
        "df_cleaned = df.dropna()\n",
        "\n",
        "print(\"\\nDimensions after dropping NaNs:\", df_cleaned.shape)\n",
        "\n",
        "# Simplify the 'native-country' column\n",
        "df_cleaned['native-country'] = df_cleaned['native-country'].apply(lambda x: x if x == 'United-States' else 'Other')\n",
        "\n",
        "print(\"\\nUnique values in 'native-country' after simplification:\")\n",
        "print(df_cleaned['native-country'].value_counts())"
      ]
    },
    {
      "cell_type": "markdown",
      "metadata": {},
      "source": [
        "## 3. Data Visualization\n",
        "\n",
        "Once the data is clean, we proceed to visualize the distributions of numerical and categorical variables to better understand their characteristics.\n"
      ]
    },
    {
      "cell_type": "code",
      "execution_count": null,
      "metadata": {},
      "outputs": [],
      "source": [
        "# Histograms for numerical variables\n",
        "df_cleaned[num_cols].hist(figsize=(12, 8), bins=30)\n",
        "plt.suptitle(\"Distribution of Numerical Variables\")\n",
        "plt.savefig('../reports/figures/0.1_numerical_distribution.png')\n",
        "plt.show()"
      ]
    },
    {
      "cell_type": "code",
      "execution_count": null,
      "metadata": {},
      "outputs": [],
      "source": [
        "# Countplots for categorical variables\n",
        "\n",
        "# Total number of categorical variables\n",
        "cat_cols_cleaned = df_cleaned.select_dtypes(include='category').columns.tolist()\n",
        "num_vars = len(cat_cols_cleaned)\n",
        "\n",
        "\n",
        "# Define number of columns and rows for the grid\n",
        "cols = 3\n",
        "rows = math.ceil(num_vars / cols)\n",
        "\n",
        "# Create figure and axes\n",
        "fig, axes = plt.subplots(rows, cols, figsize=(cols*6, rows*4), constrained_layout=True)\n",
        "\n",
        "# Flatten axes for easy iteration\n",
        "axes = axes.flatten()\n",
        "\n",
        "# Plot each categorical variable in a subplot\n",
        "for i, col in enumerate(cat_cols_cleaned):\n",
        "    sns.countplot(data=df_cleaned, y=col, order=df_cleaned[col].value_counts().index, ax=axes[i])\n",
        "    axes[i].set_title(f\"Distribution of '{col}'\")\n",
        "\n",
        "# Remove empty subplots if any\n",
        "for j in range(i+1, len(axes)):\n",
        "    fig.delaxes(axes[j])\n",
        "\n",
        "plt.savefig('../reports/figures/0.1_categorical_distribution.png')\n",
        "plt.show()"
      ]
    },
    {
      "cell_type": "markdown",
      "metadata": {},
      "source": [
        "## 4. Save Processed Data\n",
        "\n",
        "The final step in this notebook is to save the cleaned `DataFrame` to a CSV file. This will allow the modeling notebooks to directly load the processed data, ensuring consistency and avoiding the repetition of cleaning steps.\n"
      ]
    },
    {
      "cell_type": "code",
      "execution_count": null,
      "metadata": {},
      "outputs": [],
      "source": [
        "# Define the output path\n",
        "output_path = '../data/processed/adult_cleaned.csv'\n",
        "os.makedirs(os.path.dirname(output_path), exist_ok=True)\n",
        "\n",
        "\n",
        "# Save the dataframe\n",
        "df_cleaned.to_csv(output_path, index=False)\n",
        "\n",
        "print(f\"Cleaned dataset saved to: {output_path}\")"
      ]
    }
  ],
  "metadata": {
    "kernelspec": {
      "display_name": "venv",
      "language": "python",
      "name": "python3"
    },
    "language_info": {
      "codemirror_mode": {
        "name": "ipython",
        "version": 3
      },
      "file_extension": ".py",
      "mimetype": "text/x-python",
      "name": "python",
      "nbconvert_exporter": "python",
      "pygments_lexer": "ipython3",
      "version": "3.12.4"
    }
  },
  "nbformat": 4,
  "nbformat_minor": 2
}
